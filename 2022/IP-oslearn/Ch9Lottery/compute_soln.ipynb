{
 "cells": [
  {
   "cell_type": "code",
   "execution_count": 55,
   "metadata": {},
   "outputs": [],
   "source": [
    "import numpy as np\n",
    "nums1 = [651593, 788724, 93859, 28347, 835765, 432767, 762280, 2106, 445387, 721540, 228762, 9452]\n",
    "nums2 = [605944,606802,581204,158383,430670,393532,723012,994820,949396,544177,444854,268241,35924,27444,464894,318465,380015,891790,525753,560510,236123,23858,325143]\n",
    "nums3 = [13168,837469,259354,234331,995645,470263,836462,476353,639068,150616,634861]"
   ]
  },
  {
   "cell_type": "code",
   "execution_count": 58,
   "metadata": {},
   "outputs": [
    {
     "name": "stdout",
     "output_type": "stream",
     "text": [
      "605944 2\n",
      "606802 0\n",
      "581204 0\n",
      "158383 2\n",
      "430670 0\n",
      "393532 1\n",
      "723012 0\n",
      "994820 2\n",
      "949396 0\n",
      "544177 0\n",
      "444854 0\n",
      "268241 1\n",
      "35924 0\n",
      "27444 0\n",
      "464894 1\n",
      "318465 2\n",
      "380015 1\n",
      "891790 1\n",
      "525753 1\n",
      "560510 2\n",
      "236123 1\n",
      "23858 1\n",
      "325143 2\n"
     ]
    }
   ],
   "source": [
    "from types import NoneType\n",
    "\n",
    "lengths = [1, 7, 4]\n",
    "tickets = [84, 25, 44]\n",
    "def solver(_lengths, _tickets, rands):\n",
    "    runtimes = [0 for i in range(len(_lengths))]\n",
    "    soln = []\n",
    "    for i in range(len(rands)):\n",
    "        remaining_tickets = np.sum([_tickets[i] if _lengths[i] != runtimes[i] else 0 for i in range(len(_lengths))])\n",
    "        ff = lambda q: type(q) != NoneType\n",
    "        completed_tasks = list(filter(ff, [i if runtimes[i] == _lengths[i] else None for i in range(len(_lengths))]))\n",
    "        target = rands[i] % remaining_tickets\n",
    "        remaining_jobs = list(filter(ff, [idx if idx not in completed_tasks else None for idx in range(len(_lengths))]))\n",
    "        remaining_ticket_list = np.cumsum([_tickets[ii] for ii in remaining_jobs])\n",
    "        choice = remaining_jobs[np.argmin(remaining_ticket_list <= target)]\n",
    "        runtimes[choice] += 1\n",
    "        soln.append(choice)\n",
    "    for i, e in enumerate(soln):\n",
    "        print(rands[i], e)\n",
    "    #print(\"SOLUTION\", soln)\n",
    "#solver(lengths, tickets, nums1)\n",
    "solver([9, 8, 6], [94, 73, 30], nums2)\n",
    "#solver([2, 3, 6], [54, 60, 6], nums3)"
   ]
  },
  {
   "cell_type": "code",
   "execution_count": 11,
   "metadata": {},
   "outputs": [
    {
     "data": {
      "text/plain": [
       "(device(type='mps'), device(type='cpu'))"
      ]
     },
     "execution_count": 11,
     "metadata": {},
     "output_type": "execute_result"
    }
   ],
   "source": [
    "mps_device = torch.device(\"mps\")\n",
    "cpu_device = torch.device(\"cpu\")\n",
    "BSIZE, DSIZE = 1000, 1000000\n",
    "A, B = torch.randn((BSIZE, DSIZE), device=mps_device), torch.randn((DSIZE, BSIZE), device=mps_device)\n",
    "C, D = torch.randn((BSIZE, DSIZE), device=cpu_device), torch.randn((DSIZE, BSIZE), device=cpu_device)\n",
    "mps_device, cpu_device"
   ]
  },
  {
   "cell_type": "code",
   "execution_count": 12,
   "metadata": {},
   "outputs": [
    {
     "data": {
      "text/plain": [
       "0.030040979385375977"
      ]
     },
     "execution_count": 12,
     "metadata": {},
     "output_type": "execute_result"
    }
   ],
   "source": [
    "now = time.time()\n",
    "A @ B\n",
    "time.time() - now"
   ]
  },
  {
   "cell_type": "code",
   "execution_count": 13,
   "metadata": {},
   "outputs": [
    {
     "data": {
      "text/plain": [
       "1.6582372188568115"
      ]
     },
     "execution_count": 13,
     "metadata": {},
     "output_type": "execute_result"
    }
   ],
   "source": [
    "now = time.time()\n",
    "C @ D\n",
    "time.time() - now"
   ]
  },
  {
   "cell_type": "code",
   "execution_count": 14,
   "metadata": {},
   "outputs": [],
   "source": [
    "%reset"
   ]
  },
  {
   "cell_type": "code",
   "execution_count": null,
   "metadata": {},
   "outputs": [],
   "source": [
    "dtype = torch.float\n",
    "device = torch.device(\"mps\")\n",
    "\n",
    "# Create random input and output data\n",
    "x = torch.linspace(-math.pi, math.pi, 2000, device=device, dtype=dtype)\n",
    "y = torch.sin(x)\n",
    "\n",
    "# Randomly initialize weights\n",
    "a = torch.randn((), device=device, dtype=dtype)\n",
    "b = torch.randn((), device=device, dtype=dtype)\n",
    "c = torch.randn((), device=device, dtype=dtype)\n",
    "d = torch.randn((), device=device, dtype=dtype)\n",
    "\n",
    "learning_rate = 1e-6\n",
    "for t in range(2000):\n",
    "    # Forward pass: compute predicted y\n",
    "    y_pred = a + b * x + c * x ** 2 + d * x ** 3\n",
    "\n",
    "    # Compute and print loss\n",
    "    loss = (y_pred - y).pow(2).sum().item()\n",
    "    if t % 100 == 99:\n",
    "        print(t, loss)\n",
    "\n",
    "# Backprop to compute gradients of a, b, c, d with respect to loss\n",
    "    grad_y_pred = 2.0 * (y_pred - y)\n",
    "    grad_a = grad_y_pred.sum()\n",
    "    grad_b = (grad_y_pred * x).sum()\n",
    "    grad_c = (grad_y_pred * x ** 2).sum()\n",
    "    grad_d = (grad_y_pred * x ** 3).sum()\n",
    "\n",
    "    # Update weights using gradient descent\n",
    "    a -= learning_rate * grad_a\n",
    "    b -= learning_rate * grad_b\n",
    "    c -= learning_rate * grad_c\n",
    "    d -= learning_rate * grad_d\n",
    "\n",
    "\n",
    "print(f'Result: y = {a.item()} + {b.item()} x + {c.item()} x^2 + {d.item()} x^3')"
   ]
  }
 ],
 "metadata": {
  "kernelspec": {
   "display_name": "Python 3.10.4 ('bookmarks-env')",
   "language": "python",
   "name": "python3"
  },
  "language_info": {
   "codemirror_mode": {
    "name": "ipython",
    "version": 3
   },
   "file_extension": ".py",
   "mimetype": "text/x-python",
   "name": "python",
   "nbconvert_exporter": "python",
   "pygments_lexer": "ipython3",
   "version": "3.10.4"
  },
  "orig_nbformat": 4,
  "vscode": {
   "interpreter": {
    "hash": "70b2cbb0441b10b549352bdbb58244e8b7681a2236bd12981b25858b01395e43"
   }
  }
 },
 "nbformat": 4,
 "nbformat_minor": 2
}
