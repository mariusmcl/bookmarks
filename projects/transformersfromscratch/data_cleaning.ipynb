{
 "cells": [
  {
   "cell_type": "code",
   "execution_count": 12,
   "metadata": {},
   "outputs": [],
   "source": [
    "import re\n",
    "mapp = {}\n",
    "with open(\"fra.txt\") as file:\n",
    "    contents = file.readlines()\n",
    "    qq = contents[1032]\n",
    "    for line in contents:\n",
    "        eng, fre = line.split(\"CC-BY 2.0\", 1)[0].strip().split(\"\\t\", 1)\n",
    "        eng, fre = re.sub(r'\\s', \" \", eng), re.sub(r'\\s', \" \", fre)\n",
    "        if eng in mapp.keys():\n",
    "            mapp[eng].append(fre)\n",
    "        else:\n",
    "            mapp[eng] = [fre]"
   ]
  },
  {
   "cell_type": "code",
   "execution_count": 14,
   "metadata": {},
   "outputs": [],
   "source": [
    "import json"
   ]
  },
  {
   "cell_type": "code",
   "execution_count": 15,
   "metadata": {},
   "outputs": [],
   "source": [
    "with open('translations.txt', 'w') as f:\n",
    "    json.dump(mapp, f)"
   ]
  }
 ],
 "metadata": {
  "kernelspec": {
   "display_name": "Python 3.10.2 64-bit",
   "language": "python",
   "name": "python3"
  },
  "language_info": {
   "codemirror_mode": {
    "name": "ipython",
    "version": 3
   },
   "file_extension": ".py",
   "mimetype": "text/x-python",
   "name": "python",
   "nbconvert_exporter": "python",
   "pygments_lexer": "ipython3",
   "version": "3.10.2"
  },
  "orig_nbformat": 4,
  "vscode": {
   "interpreter": {
    "hash": "37ba08be7ddb7609497e07d672787808fce29369e8f34019d5cbd0288d911be9"
   }
  }
 },
 "nbformat": 4,
 "nbformat_minor": 2
}
