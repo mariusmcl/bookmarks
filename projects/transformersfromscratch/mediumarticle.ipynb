{
 "cells": [
  {
   "cell_type": "code",
   "execution_count": 1,
   "metadata": {},
   "outputs": [
    {
     "name": "stderr",
     "output_type": "stream",
     "text": [
      "c:\\Users\\mariu\\.conda\\envs\\bookmarks-env\\lib\\site-packages\\tqdm\\auto.py:22: TqdmWarning: IProgress not found. Please update jupyter and ipywidgets. See https://ipywidgets.readthedocs.io/en/stable/user_install.html\n",
      "  from .autonotebook import tqdm as notebook_tqdm\n"
     ]
    }
   ],
   "source": [
    "from torch import Tensor\n",
    "import torch.nn.functional as f\n",
    "\n",
    "\n",
    "def scaled_dot_product_attention(query: Tensor, key: Tensor, value: Tensor) -> Tensor:\n",
    "    # Q, K, V: (N, L, D)\n",
    "    # Gir ikke mening dele opp Lq og Lk:: --> De må ha samme lengde (men kan være maskert da)\n",
    "    temp = query.bmm(key.transpose(1, 2))   # (N, Lq, Lk)\n",
    "    scale = query.size(-1) ** 0.5   # sqrt(D)\n",
    "    softmax = f.softmax(temp / scale, dim=-1)  # For each (N, Lq): What are the most important Lk's\n",
    "    return softmax.bmm(value)  # (N, Lq, Lk) @ (N, Lk, D)  --> (N, Lq, D) Usikker når Lq != Lk"
   ]
  },
  {
   "cell_type": "code",
   "execution_count": null,
   "metadata": {},
   "outputs": [],
   "source": []
  },
  {
   "cell_type": "code",
   "execution_count": null,
   "metadata": {},
   "outputs": [],
   "source": []
  },
  {
   "cell_type": "code",
   "execution_count": null,
   "metadata": {},
   "outputs": [],
   "source": []
  }
 ],
 "metadata": {
  "kernelspec": {
   "display_name": "Python 3.10.4 ('bookmarks-env')",
   "language": "python",
   "name": "python3"
  },
  "language_info": {
   "codemirror_mode": {
    "name": "ipython",
    "version": 3
   },
   "file_extension": ".py",
   "mimetype": "text/x-python",
   "name": "python",
   "nbconvert_exporter": "python",
   "pygments_lexer": "ipython3",
   "version": "3.10.4"
  },
  "orig_nbformat": 4,
  "vscode": {
   "interpreter": {
    "hash": "fa6deb19b3478dc94941ab71379fc1b2dc5d36d23cd8d5268d7d69e207cd9c6e"
   }
  }
 },
 "nbformat": 4,
 "nbformat_minor": 2
}
