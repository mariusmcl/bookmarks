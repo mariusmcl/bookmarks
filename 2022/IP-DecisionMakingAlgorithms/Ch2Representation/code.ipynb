{
 "cells": [
  {
   "cell_type": "code",
   "execution_count": 1,
   "metadata": {},
   "outputs": [
    {
     "data": {
      "text/plain": [
       "normalize! (generic function with 1 method)"
      ]
     },
     "metadata": {},
     "output_type": "display_data"
    }
   ],
   "source": [
    "struct Variable\n",
    "\tname::Symbol\n",
    "\tr::Int # number of possible values\n",
    "end\n",
    "\n",
    "const Assignment = Dict{Symbol,Int}\n",
    "const FactorTable = Dict{Assignment,Float64}\n",
    "\n",
    "struct Factor\n",
    "\tvars::Vector{Variable}\n",
    "\ttable::FactorTable\n",
    "end\n",
    "variablenames(ϕ::Factor) = [var.name for var in ϕ.vars]\n",
    "\n",
    "select(a::Assignment, varnames::Vector{Symbol}) =Assignment(n=>a[n] for n in varnames)\n",
    "\n",
    "function assignments(vars::AbstractVector{Variable})\n",
    "    names = [var.name for var in vars]\n",
    "    return vec([Assignment(n=>v for (n,v) in zip(names, values))\n",
    "    \t\t\tfor values in product((1:v.r for v in vars)...)])\n",
    "end\n",
    "\n",
    "function normalize!(ϕ::Factor)\n",
    "\tz = sum(p for (a,p) in ϕ.table)\n",
    "\tfor (a,p) in ϕ.table\n",
    "\t\tϕ.table[a] = p/z\n",
    "\tend\n",
    "\treturn ϕ\n",
    "end\n"
   ]
  },
  {
   "cell_type": "code",
   "execution_count": 4,
   "metadata": {},
   "outputs": [
    {
     "data": {
      "text/plain": [
       "10-element Vector{Int64}:\n",
       " 20\n",
       " 20\n",
       " 20\n",
       " 20\n",
       " 20\n",
       " 20\n",
       " 20\n",
       " 20\n",
       " 20\n",
       " 20"
      ]
     },
     "metadata": {},
     "output_type": "display_data"
    }
   ],
   "source": [
    "#= struct MyVariable\n",
    "    myName::Symbol\n",
    "    rr::Int\n",
    "end =#\n",
    "qq_variablenames(tall::Int) = [tall * 2 for i in range(0,0, tall)]\n",
    "qq_variablenames(10)"
   ]
  },
  {
   "cell_type": "code",
   "execution_count": 6,
   "metadata": {},
   "outputs": [],
   "source": [
    "Base.Dict{Symbol,V}(a::NamedTuple) where {V} =\n",
    "    Dict{Symbol,V}(n => v for (n, v) in zip(keys(a), values(a)))\n",
    "\n",
    "Base.convert(::Type{Dict{Symbol,V}}, a::NamedTuple) where {V} =\n",
    "    Dict{Symbol,V}(a)\n",
    "\n",
    "Base.isequal(a::Dict{Symbol,<:Any}, nt::NamedTuple) =\n",
    "    length(a) == length(nt) &&\n",
    "    all(a[n] == v for (n, v) in zip(keys(nt), values(nt)))\n"
   ]
  },
  {
   "cell_type": "code",
   "execution_count": 7,
   "metadata": {},
   "outputs": [
    {
     "data": {
      "text/plain": [
       "Factor(Variable[Variable(:x, 2), Variable(:y, 2), Variable(:z, 2)], Dict(Dict(:y => 2, :z => 2, :x => 1) => 0.37, Dict(:y => 1, :z => 2, :x => 1) => 0.31, Dict(:y => 2, :z => 1, :x => 2) => 0.02, Dict(:y => 1, :z => 1, :x => 1) => 0.08, Dict(:y => 1, :z => 2, :x => 2) => 0.05, Dict(:y => 2, :z => 2, :x => 2) => 0.07, Dict(:y => 2, :z => 1, :x => 1) => 0.09, Dict(:y => 1, :z => 1, :x => 2) => 0.01))"
      ]
     },
     "metadata": {},
     "output_type": "display_data"
    }
   ],
   "source": [
    "X = Variable(:x, 2)\n",
    "Y = Variable(:y, 2)\n",
    "Z = Variable(:z, 2)\n",
    "PHI = Factor([X, Y, Z], FactorTable(\n",
    "(x=1, y=1, z=1) => 0.08, (x=1, y=1, z=2) => 0.31,\n",
    "(x=1, y=2, z=1) => 0.09, (x=1, y=2, z=2) => 0.37,\n",
    "(x=2, y=1, z=1) => 0.01, (x=2, y=1, z=2) => 0.05,\n",
    "(x=2, y=2, z=1) => 0.02, (x=2, y=2, z=2) => 0.07,\n",
    "))\n"
   ]
  },
  {
   "cell_type": "code",
   "execution_count": null,
   "metadata": {},
   "outputs": [],
   "source": [
    "struct BayesianNetwork\n",
    "    vars::Vector{Variable}\n",
    "    factors::Vector{Factor}\n",
    "    graph::SimpleDiGraph{Int64}\n",
    "end"
   ]
  },
  {
   "cell_type": "code",
   "execution_count": null,
   "metadata": {},
   "outputs": [],
   "source": [
    "function probability(bn::BayesianNetwork, assignment)\n",
    "    subassignment(ϕ) = select(assignment, variablenames(ϕ))\n",
    "    probability(ϕ) = get(ϕ.table, subassignment(ϕ), 0.0)\n",
    "    return prod(probability(ϕ) for ϕ in bn.factors)\n",
    "end\n"
   ]
  },
  {
   "cell_type": "code",
   "execution_count": null,
   "metadata": {},
   "outputs": [],
   "source": []
  },
  {
   "cell_type": "code",
   "execution_count": null,
   "metadata": {},
   "outputs": [],
   "source": []
  },
  {
   "cell_type": "code",
   "execution_count": 18,
   "metadata": {},
   "outputs": [
    {
     "data": {
      "text/plain": [
       "Dict{Symbol, Integer} with 3 entries:\n",
       "  :a => 1\n",
       "  :b => 2\n",
       "  :c => 3"
      ]
     },
     "metadata": {},
     "output_type": "display_data"
    }
   ],
   "source": [
    "a = Dict{Symbol,Integer}((a=1, b=2, c=3))"
   ]
  },
  {
   "cell_type": "code",
   "execution_count": 15,
   "metadata": {},
   "outputs": [
    {
     "data": {
      "text/plain": [
       "1"
      ]
     },
     "metadata": {},
     "output_type": "display_data"
    }
   ],
   "source": [
    "a[:a]"
   ]
  },
  {
   "cell_type": "code",
   "execution_count": 16,
   "metadata": {},
   "outputs": [
    {
     "ename": "KeyError",
     "evalue": "KeyError: key \"a\" not found",
     "output_type": "error",
     "traceback": [
      "KeyError: key \"a\" not found\n",
      "\n",
      "Stacktrace:\n",
      " [1] getindex(h::Dict{Symbol, Integer}, key::String)\n",
      "   @ Base .\\dict.jl:498\n",
      " [2] top-level scope\n",
      "   @ c:\\Users\\mariu\\projects\\bookmarks\\2022\\IP-DecisionMakingAlgorithms\\Ch2Representation\\code.ipynb:1"
     ]
    }
   ],
   "source": [
    "a[\"a\"]"
   ]
  },
  {
   "cell_type": "code",
   "execution_count": 11,
   "metadata": {},
   "outputs": [
    {
     "data": {
      "text/plain": [
       ":a"
      ]
     },
     "metadata": {},
     "output_type": "display_data"
    }
   ],
   "source": [
    ":a"
   ]
  },
  {
   "cell_type": "code",
   "execution_count": 13,
   "metadata": {},
   "outputs": [
    {
     "data": {
      "text/plain": [
       ":marius"
      ]
     },
     "metadata": {},
     "output_type": "display_data"
    }
   ],
   "source": [
    ":marius"
   ]
  },
  {
   "cell_type": "code",
   "execution_count": 6,
   "metadata": {},
   "outputs": [
    {
     "ename": "UndefVarError",
     "evalue": "UndefVarError: Distributions not defined",
     "output_type": "error",
     "traceback": [
      "UndefVarError: Distributions not defined\n",
      "\n",
      "Stacktrace:\n",
      " [1] top-level scope\n",
      "   @ c:\\Users\\mariu\\projects\\bookmarks\\2022\\IP-DecisionMakingAlgorithms\\Ch2Representation\\code.ipynb:11"
     ]
    }
   ],
   "source": [
    "struct SetCategorical{S}\n",
    "    elements::Vector{S} # Set elements (could be repeated)\n",
    "    distr::Categorical # Categorical distribution over set elements\n",
    "    function SetCategorical(elements::AbstractVector{S}) where {S}\n",
    "        weights = ones(length(elements))\n",
    "        return new{S}(elements, Categorical(normalize(weights, 1)))\n",
    "    end\n",
    "    function SetCategorical(\n",
    "        elements::AbstractVector{S},\n",
    "        weights::AbstractVector{Float64}\n",
    "    ) where {S}\n",
    "        ℓ₁ = norm(weights, 1)\n",
    "        if ℓ₁ < 1e-6 || isinf(ℓ₁)\n",
    "            return SetCategorical(elements)\n",
    "        end\n",
    "        distr = Categorical(normalize(weights, 1))\n",
    "        return new{S}(elements, distr)\n",
    "    end\n",
    "end\n",
    "\n",
    "Distributions.rand(D::SetCategorical) = D.elements[rand(D.distr)]\n",
    "\n",
    "Distributions.rand(D::SetCategorical, n::Int) = D.elements[rand(D.distr, n)]\n",
    "\n",
    "function Distributions.pdf(D::SetCategorical, x)\n",
    "    sum(e == x ? w : 0.0 for (e, w) in zip(D.elements, D.distr.p))\n",
    "end\n",
    "\n"
   ]
  }
 ],
 "metadata": {
  "kernelspec": {
   "display_name": "Julia 1.8.2",
   "language": "julia",
   "name": "julia-1.8"
  },
  "language_info": {
   "file_extension": ".jl",
   "mimetype": "application/julia",
   "name": "julia",
   "version": "1.8.2"
  },
  "orig_nbformat": 4,
  "vscode": {
   "interpreter": {
    "hash": "fa6deb19b3478dc94941ab71379fc1b2dc5d36d23cd8d5268d7d69e207cd9c6e"
   }
  }
 },
 "nbformat": 4,
 "nbformat_minor": 2
}
