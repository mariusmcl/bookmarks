{
 "cells": [
  {
   "cell_type": "code",
   "execution_count": 1,
   "metadata": {},
   "outputs": [
    {
     "name": "stderr",
     "output_type": "stream",
     "text": [
      "c:\\Users\\mariu\\.conda\\envs\\bookmarks-env\\lib\\site-packages\\tqdm\\auto.py:22: TqdmWarning: IProgress not found. Please update jupyter and ipywidgets. See https://ipywidgets.readthedocs.io/en/stable/user_install.html\n",
      "  from .autonotebook import tqdm as notebook_tqdm\n"
     ]
    }
   ],
   "source": [
    "import torch\n",
    "import torch.nn\n"
   ]
  },
  {
   "cell_type": "code",
   "execution_count": 14,
   "metadata": {},
   "outputs": [],
   "source": [
    "import numpy as np"
   ]
  },
  {
   "cell_type": "code",
   "execution_count": 4,
   "metadata": {},
   "outputs": [
    {
     "data": {
      "text/plain": [
       "(tensor([0, 1, 2, 3, 4, 5]), tensor([0, 1, 2, 3, 4, 5, 6, 7]))"
      ]
     },
     "execution_count": 4,
     "metadata": {},
     "output_type": "execute_result"
    }
   ],
   "source": [
    "max_seq_len, hidden_size = 5, 7\n",
    "A, B = map(lambda q: torch.linspace(0, q, q + 1, dtype=torch.long), (max_seq_len, hidden_size))\n",
    "A, B"
   ]
  },
  {
   "cell_type": "code",
   "execution_count": 5,
   "metadata": {},
   "outputs": [
    {
     "data": {
      "text/plain": [
       "tensor([0, 1, 2, 3, 4, 5])"
      ]
     },
     "execution_count": 5,
     "metadata": {},
     "output_type": "execute_result"
    }
   ],
   "source": [
    "A"
   ]
  },
  {
   "cell_type": "code",
   "execution_count": 13,
   "metadata": {},
   "outputs": [
    {
     "data": {
      "text/plain": [
       "[tensor(0.), tensor(0.3882), tensor(0.3125), tensor(0.1889)]"
      ]
     },
     "execution_count": 13,
     "metadata": {},
     "output_type": "execute_result"
    }
   ],
   "source": [
    "QQ = list(map(lambda i: torch.sin(i[1] / (max_seq_len ** (2 * i[0] / hidden_size))),  list(zip(B[::2].float(), A.float()))))\n",
    "QQ"
   ]
  },
  {
   "cell_type": "code",
   "execution_count": 9,
   "metadata": {},
   "outputs": [
    {
     "data": {
      "text/plain": [
       "[(tensor(0), tensor(0)),\n",
       " (tensor(2), tensor(1)),\n",
       " (tensor(4), tensor(2)),\n",
       " (tensor(6), tensor(3))]"
      ]
     },
     "execution_count": 9,
     "metadata": {},
     "output_type": "execute_result"
    }
   ],
   "source": [
    "list(zip(B[::2], A))"
   ]
  },
  {
   "cell_type": "code",
   "execution_count": 17,
   "metadata": {},
   "outputs": [
    {
     "name": "stdout",
     "output_type": "stream",
     "text": [
      "tensor(0) tensor(0)\n",
      "tensor(1) tensor(2)\n",
      "tensor(2) tensor(4)\n",
      "tensor(3) tensor(6)\n"
     ]
    }
   ],
   "source": [
    "for i, t in zip(A, B[::2]):\n",
    "    print(i, t)"
   ]
  },
  {
   "cell_type": "code",
   "execution_count": 80,
   "metadata": {},
   "outputs": [
    {
     "data": {
      "text/plain": [
       "tensor([[ 0.0000,  0.8415,  0.9093,  0.1411, -0.7568],\n",
       "        [ 1.0000,  0.5403, -0.4161, -0.9900, -0.6536],\n",
       "        [ 0.0000,  0.5903,  0.9529,  0.9482,  0.5778],\n",
       "        [ 1.0000,  0.8072,  0.3032, -0.3178, -0.8162],\n",
       "        [ 0.0000,  0.3882,  0.7155,  0.9306,  0.9997],\n",
       "        [ 1.0000,  0.9216,  0.6986,  0.3661, -0.0238],\n",
       "        [ 0.0000,  0.1987,  0.3894,  0.5646,  0.7174]])"
      ]
     },
     "execution_count": 80,
     "metadata": {},
     "output_type": "execute_result"
    }
   ],
   "source": [
    "def create_position_embedding_mtrx_v1(max_seq_len, hidden_size):\n",
    "    \"\"\"\n",
    "    Going to just double loop it (boring...)\n",
    "\n",
    "    Args:\n",
    "        max_seq_len (_type_): _description_\n",
    "        hidden_size (_type_): _description_\n",
    "    \"\"\"\n",
    "    pt = lambda input: torch.tensor(input).float()\n",
    "    output = torch.zeros((hidden_size, max_seq_len))\n",
    "    \n",
    "    #timestamps = torch.linspace(0, max_seq_len, max_seq_len + 1).float()[:-1]\n",
    "    \n",
    "    for i in range((hidden_size // 2)):\n",
    "        for t in range(max_seq_len):\n",
    "            output[2*i, t] = torch.sin(pt(t) / (max_seq_len ** (2 * pt(i) / hidden_size)))\n",
    "            output[2*i + 1, t] = torch.cos(pt(t) / (max_seq_len ** (2 * pt(i) / hidden_size)))\n",
    "        \n",
    "    if (hidden_size % 2 != 0):\n",
    "        for t in range(max_seq_len):\n",
    "            output[-1, t] = torch.sin(pt(t) / max_seq_len)\n",
    "    \n",
    "    return output\n",
    "create_position_embedding_mtrx_v1(max_seq_len=max_seq_len, hidden_size=hidden_size)\n"
   ]
  },
  {
   "cell_type": "code",
   "execution_count": null,
   "metadata": {},
   "outputs": [],
   "source": []
  }
 ],
 "metadata": {
  "kernelspec": {
   "display_name": "Python 3.10.4 ('bookmarks-env')",
   "language": "python",
   "name": "python3"
  },
  "language_info": {
   "codemirror_mode": {
    "name": "ipython",
    "version": 3
   },
   "file_extension": ".py",
   "mimetype": "text/x-python",
   "name": "python",
   "nbconvert_exporter": "python",
   "pygments_lexer": "ipython3",
   "version": "3.10.4"
  },
  "orig_nbformat": 4,
  "vscode": {
   "interpreter": {
    "hash": "fa6deb19b3478dc94941ab71379fc1b2dc5d36d23cd8d5268d7d69e207cd9c6e"
   }
  }
 },
 "nbformat": 4,
 "nbformat_minor": 2
}
