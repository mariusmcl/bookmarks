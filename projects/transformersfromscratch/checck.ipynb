{
 "cells": [
  {
   "cell_type": "code",
   "execution_count": 1,
   "metadata": {},
   "outputs": [],
   "source": [
    "import torch\n",
    "import torch.nn as nn"
   ]
  },
  {
   "cell_type": "code",
   "execution_count": 3,
   "metadata": {},
   "outputs": [],
   "source": [
    "def create_position_embedding_mtrx(max_seq_len, hidden_size):\n",
    "    \"\"\"\n",
    "    Going to just double loop it (boring...)\n",
    "\n",
    "    Args:\n",
    "        max_seq_len (_type_): _description_\n",
    "        hidden_size (_type_): _description_\n",
    "    \"\"\"\n",
    "    pt = lambda input: torch.tensor(input).float()\n",
    "    output = torch.zeros((hidden_size, max_seq_len))\n",
    "    timestamps = torch.linspace(0, max_seq_len, max_seq_len + 1).float()[:-1]\n",
    "    \n",
    "    for i in range((hidden_size // 2)):\n",
    "        output[2*i, :] = torch.sin(timestamps / (max_seq_len ** (2 * pt(i) / hidden_size)))\n",
    "        output[2*i + 1, :] = torch.cos(timestamps / (max_seq_len ** (2 * pt(i) / hidden_size)))\n",
    "\n",
    "    if (hidden_size % 2 != 0):\n",
    "        output[-1, :] = torch.sin(timestamps / max_seq_len)\n",
    "    return output"
   ]
  },
  {
   "cell_type": "code",
   "execution_count": 8,
   "metadata": {},
   "outputs": [
    {
     "data": {
      "text/plain": [
       "<function torch.cuda.memory.memory_stats(device: Union[torch.device, str, int, NoneType] = None) -> Dict[str, Any]>"
      ]
     },
     "execution_count": 8,
     "metadata": {},
     "output_type": "execute_result"
    }
   ],
   "source": []
  }
 ],
 "metadata": {
  "kernelspec": {
   "display_name": "Python 3 (ipykernel)",
   "language": "python",
   "name": "python3"
  },
  "language_info": {
   "codemirror_mode": {
    "name": "ipython",
    "version": 3
   },
   "file_extension": ".py",
   "mimetype": "text/x-python",
   "name": "python",
   "nbconvert_exporter": "python",
   "pygments_lexer": "ipython3",
   "version": "3.10.6"
  },
  "orig_nbformat": 4
 },
 "nbformat": 4,
 "nbformat_minor": 2
}
